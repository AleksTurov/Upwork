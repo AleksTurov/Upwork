{
 "cells": [
  {
   "cell_type": "code",
   "execution_count": null,
   "id": "5215ae1b-fc95-4529-b4d8-152c82c65471",
   "metadata": {},
   "outputs": [],
   "source": [
    "import os\n",
    "import openai\n",
    "import telebot\n",
    "\n",
    "# Получаем токены из переменных окружения для безопасности\n",
    "TELEGRAM_BOT_TOKEN = os.getenv('TELEGRAM_BOT_TOKEN')\n",
    "OPENAI_API_KEY = os.getenv('OPENAI_API_KEY')\n",
    "\n",
    "# Задаем токен бота и ключ API\n",
    "bot = telebot.TeleBot(TELEGRAM_BOT_TOKEN)\n",
    "openai.api_key = OPENAI_API_KEY\n",
    "\n",
    "# Задаем идентификатор группы\n",
    "group_id = -1001647255083  # replace with your group chat ID\n",
    "\n",
    "@bot.message_handler(func=lambda _: True)\n",
    "def handle_message(message):\n",
    "    # Используем 'try-except' для обработки ошибок при взаимодействии с OpenAI\n",
    "    try:\n",
    "        engine = \"text-davinci-003\"\n",
    "        prompt = message.text\n",
    "        completion = openai.Completion.create(engine=engine, prompt=prompt, temperature=0.5, max_tokens=4000)\n",
    "\n",
    "        # Проверяем наличие ожидаемого поля в ответе от OpenAI\n",
    "        if 'choices' in completion and len(completion.choices) > 0 and 'text' in completion.choices[0]:\n",
    "            bot.send_message(chat_id=group_id, text=completion.choices[0]['text'])\n",
    "        else:\n",
    "            bot.send_message(chat_id=group_id, text=\"Sorry, I couldn't understand your message.\")\n",
    "\n",
    "    except Exception as e:\n",
    "        print(f\"An error occurred: {e}\")\n",
    "\n",
    "\n"
   ]
  },
  {
   "cell_type": "code",
   "execution_count": null,
   "id": "c2f9ee26-45e4-461f-b61a-940e678835dd",
   "metadata": {},
   "outputs": [],
   "source": [
    "bot.polling()"
   ]
  }
 ],
 "metadata": {
  "kernelspec": {
   "display_name": "Python 3",
   "language": "python",
   "name": "python3"
  },
  "language_info": {
   "codemirror_mode": {
    "name": "ipython",
    "version": 3
   },
   "file_extension": ".py",
   "mimetype": "text/x-python",
   "name": "python",
   "nbconvert_exporter": "python",
   "pygments_lexer": "ipython3",
   "version": "3.10.10"
  }
 },
 "nbformat": 4,
 "nbformat_minor": 5
}
