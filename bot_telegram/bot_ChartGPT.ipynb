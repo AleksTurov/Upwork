{
 "cells": [
  {
   "cell_type": "code",
   "execution_count": 8,
   "id": "11282b8f",
   "metadata": {},
   "outputs": [
    {
     "name": "stdout",
     "output_type": "stream",
     "text": [
      "Requirement already satisfied: openai in /home/aleksey/anaconda3/lib/python3.10/site-packages (0.27.7)\n",
      "Requirement already satisfied: requests>=2.20 in /home/aleksey/anaconda3/lib/python3.10/site-packages (from openai) (2.28.1)\n",
      "Requirement already satisfied: tqdm in /home/aleksey/anaconda3/lib/python3.10/site-packages (from openai) (4.65.0)\n",
      "Requirement already satisfied: aiohttp in /home/aleksey/anaconda3/lib/python3.10/site-packages (from openai) (3.8.4)\n",
      "Requirement already satisfied: certifi>=2017.4.17 in /home/aleksey/anaconda3/lib/python3.10/site-packages (from requests>=2.20->openai) (2022.12.7)\n",
      "Requirement already satisfied: charset-normalizer<3,>=2 in /home/aleksey/anaconda3/lib/python3.10/site-packages (from requests>=2.20->openai) (2.0.4)\n",
      "Requirement already satisfied: urllib3<1.27,>=1.21.1 in /home/aleksey/anaconda3/lib/python3.10/site-packages (from requests>=2.20->openai) (1.26.14)\n",
      "Requirement already satisfied: idna<4,>=2.5 in /home/aleksey/anaconda3/lib/python3.10/site-packages (from requests>=2.20->openai) (3.4)\n",
      "Requirement already satisfied: attrs>=17.3.0 in /home/aleksey/anaconda3/lib/python3.10/site-packages (from aiohttp->openai) (22.1.0)\n",
      "Requirement already satisfied: frozenlist>=1.1.1 in /home/aleksey/anaconda3/lib/python3.10/site-packages (from aiohttp->openai) (1.3.3)\n",
      "Requirement already satisfied: yarl<2.0,>=1.0 in /home/aleksey/anaconda3/lib/python3.10/site-packages (from aiohttp->openai) (1.9.2)\n",
      "Requirement already satisfied: multidict<7.0,>=4.5 in /home/aleksey/anaconda3/lib/python3.10/site-packages (from aiohttp->openai) (6.0.4)\n",
      "Requirement already satisfied: aiosignal>=1.1.2 in /home/aleksey/anaconda3/lib/python3.10/site-packages (from aiohttp->openai) (1.3.1)\n",
      "Requirement already satisfied: async-timeout<5.0,>=4.0.0a3 in /home/aleksey/anaconda3/lib/python3.10/site-packages (from aiohttp->openai) (4.0.2)\n",
      "Note: you may need to restart the kernel to use updated packages.\n",
      "Requirement already satisfied: telegram in /home/aleksey/anaconda3/lib/python3.10/site-packages (0.0.1)\n",
      "Note: you may need to restart the kernel to use updated packages.\n",
      "Requirement already satisfied: pytelegramBotApi in /home/aleksey/anaconda3/lib/python3.10/site-packages (4.12.0)\n",
      "Requirement already satisfied: requests in /home/aleksey/anaconda3/lib/python3.10/site-packages (from pytelegramBotApi) (2.28.1)\n",
      "Requirement already satisfied: charset-normalizer<3,>=2 in /home/aleksey/anaconda3/lib/python3.10/site-packages (from requests->pytelegramBotApi) (2.0.4)\n",
      "Requirement already satisfied: urllib3<1.27,>=1.21.1 in /home/aleksey/anaconda3/lib/python3.10/site-packages (from requests->pytelegramBotApi) (1.26.14)\n",
      "Requirement already satisfied: idna<4,>=2.5 in /home/aleksey/anaconda3/lib/python3.10/site-packages (from requests->pytelegramBotApi) (3.4)\n",
      "Requirement already satisfied: certifi>=2017.4.17 in /home/aleksey/anaconda3/lib/python3.10/site-packages (from requests->pytelegramBotApi) (2022.12.7)\n",
      "Note: you may need to restart the kernel to use updated packages.\n"
     ]
    }
   ],
   "source": [
    "%pip install openai\n",
    "%pip install telegram\n",
    "%pip install pytelegramBotApi"
   ]
  },
  {
   "cell_type": "code",
   "execution_count": 10,
   "id": "786f5082",
   "metadata": {},
   "outputs": [],
   "source": [
    "import os\n",
    "import openai\n",
    "import telebot\n",
    "\n",
    "# Получаем токены из переменных окружения для безопасности\n",
    "TELEGRAM_BOT_TOKEN = os.getenv('TELEGRAM_BOT_TOKEN')\n",
    "OPENAI_API_KEY = os.getenv('OPENAI_API_KEY')\n",
    "\n",
    "# Задаем токен бота и ключ API\n",
    "bot = telebot.TeleBot(TELEGRAM_BOT_TOKEN)\n",
    "openai.api_key = OPENAI_API_KEY\n",
    "\n",
    "# Задаем идентификатор группы\n",
    "group_id = -1001647255083  # replace with your group chat ID\n",
    "\n",
    "@bot.message_handler(func=lambda _: True)\n",
    "def handle_message(message):\n",
    "    # Используем 'try-except' для обработки ошибок при взаимодействии с OpenAI\n",
    "    try:\n",
    "        engine = \"text-davinci-003\"\n",
    "        prompt = message.text\n",
    "        completion = openai.Completion.create(engine=engine, prompt=prompt, temperature=0.5, max_tokens=4000)\n",
    "\n",
    "        # Проверяем наличие ожидаемого поля в ответе от OpenAI\n",
    "        if 'choices' in completion and len(completion.choices) > 0 and 'text' in completion.choices[0]:\n",
    "            bot.send_message(chat_id=group_id, text=completion.choices[0]['text'])\n",
    "        else:\n",
    "            bot.send_message(chat_id=group_id, text=\"Sorry, I couldn't understand your message.\")\n",
    "\n",
    "    except Exception as e:\n",
    "        print(f\"An error occurred: {e}\")\n",
    "\n",
    "\n"
   ]
  },
  {
   "cell_type": "code",
   "execution_count": null,
   "id": "3ffcd8de",
   "metadata": {},
   "outputs": [],
   "source": [
    "bot.polling()"
   ]
  },
  {
   "cell_type": "code",
   "execution_count": null,
   "id": "1b14097f",
   "metadata": {},
   "outputs": [],
   "source": []
  }
 ],
 "metadata": {
  "kernelspec": {
   "display_name": "Python 3",
   "language": "python",
   "name": "python3"
  },
  "language_info": {
   "codemirror_mode": {
    "name": "ipython",
    "version": 3
   },
   "file_extension": ".py",
   "mimetype": "text/x-python",
   "name": "python",
   "nbconvert_exporter": "python",
   "pygments_lexer": "ipython3",
   "version": "3.10.10"
  }
 },
 "nbformat": 4,
 "nbformat_minor": 5
}
